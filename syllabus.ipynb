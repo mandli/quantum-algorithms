{
 "cells": [
  {
   "cell_type": "markdown",
   "metadata": {},
   "source": [
    "<table>\n",
    " <tr align=left><td><img align=left src=\"https://i.creativecommons.org/l/by/4.0/88x31.png\">\n",
    " <td>Text provided under a Creative Commons Attribution license, CC-BY. All code is made available under the FSF-approved MIT license. (c) Tom Marshall, Kyle Mandli, and Javad Shabani</td>\n",
    "</table>"
   ]
  },
  {
   "cell_type": "markdown",
   "metadata": {},
   "source": [
    "# Developing Quantum Intuition for Quantum Algorithm Development\n",
    "*v 1.2.0 September 14, 2021*"
   ]
  },
  {
   "cell_type": "markdown",
   "metadata": {},
   "source": [
    "### Authorship\n",
    "\n",
    "This first-draft outline was conceived and written by Tom Marshall, with inspiration drawn from the published works and presentations of Naomi Nickerson and Mihir Pant, and also my own interests in entanglement, decoherence, and the quantum-to-classical transition.  Kyle Mandli and Javad Shabani have made substantive contributions to this draft, and I’ve drawn much inspiration and motivation from many colleagues too numerous to mention.\n",
    "Going forward, this work will be an open-source communal effort, and individual authorship credit will be taken as each author deems appropriate."
   ]
  },
  {
   "cell_type": "markdown",
   "metadata": {},
   "source": [
    "## Introduction\n",
    "\n",
    "This document outlines a Seminar Course on quantum algorithm development, with variations targeted at several different audiences, that will be ported to a GitHub repository for broader co-development.  Kyle Mandli of Columbia has agreed to host the repository, and other faculty from Columbia, NYU, and elsewhere will be invited to participate.  Bloomberg engineers (and others) will be invited to participate freely, the benefits being that such participation will further their own education and experience, and also a version of this Course will be suitable for Bloomberg-internal use. \n",
    "This Seminar Course is intended to supplement more traditional approaches, not to replace them.  Although a strong foundation in quantum computing and a familiarity with classical algorithms is neither a prerequisite for this Course nor an objective per se, and the curriculum is intended to be adaptable to a broad range of student backgrounds, the material will best be absorbed and built upon by students who do indeed have such skills, for example advanced undergraduates and Masters students in Quantum Computing (QC).\n"
   ]
  },
  {
   "cell_type": "markdown",
   "metadata": {},
   "source": []
  }
 ],
 "metadata": {
  "kernelspec": {
   "display_name": "Python 3",
   "language": "python",
   "name": "python3"
  },
  "language_info": {
   "codemirror_mode": {
    "name": "ipython",
    "version": 3
   },
   "file_extension": ".py",
   "mimetype": "text/x-python",
   "name": "python",
   "nbconvert_exporter": "python",
   "pygments_lexer": "ipython3",
   "version": "3.9.6"
  }
 },
 "nbformat": 4,
 "nbformat_minor": 4
}
